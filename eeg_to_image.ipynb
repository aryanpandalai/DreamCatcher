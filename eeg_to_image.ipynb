{
  "nbformat": 4,
  "nbformat_minor": 0,
  "metadata": {
    "colab": {
      "provenance": [],
      "machine_shape": "hm",
      "gpuType": "A100"
    },
    "kernelspec": {
      "name": "python3",
      "display_name": "Python 3"
    },
    "language_info": {
      "name": "python"
    },
    "accelerator": "GPU"
  },
  "cells": [
    {
      "cell_type": "code",
      "source": [
        "from google.colab import drive\n",
        "drive.mount('/content/drive')"
      ],
      "metadata": {
        "id": "sQbA2o09BX9F"
      },
      "execution_count": null,
      "outputs": []
    },
    {
      "cell_type": "code",
      "source": [
        "# Install basic packages from pip (the versions are taken from your YAML file)\n",
        "!pip install numpy matplotlib natsort kornia omegaconf==2.1.1 einops==0.3.0 torch-fidelity==0.3.0 \\\n",
        "               Pillow==9.0.1 timm==0.5.4 tqdm==4.64.0 wandb==0.12.21 torchmetrics==0.9.2 \\\n",
        "               scikit-image pytorch-lightning==1.6.5 lpips==0.1.4"
      ],
      "metadata": {
        "id": "eXmOJJ_9QFAk"
      },
      "execution_count": null,
      "outputs": []
    },
    {
      "cell_type": "code",
      "source": [
        "import numpy as np"
      ],
      "metadata": {
        "id": "JZEMb83_Nm8w"
      },
      "execution_count": null,
      "outputs": []
    },
    {
      "cell_type": "code",
      "source": [
        "import torch\n",
        "from diffusers import StableDiffusionPipeline\n",
        "from transformers import CLIPTokenizer, CLIPTextModel\n",
        "from PIL import Image\n",
        "import cv2\n",
        "\n",
        "device = \"cuda\" if torch.cuda.is_available() else \"cpu\""
      ],
      "metadata": {
        "id": "DZVhjp4QBO-4"
      },
      "execution_count": null,
      "outputs": []
    },
    {
      "cell_type": "code",
      "source": [
        "!unzip \"/content/drive/MyDrive/catcher/data.zip\" -d \"/content/DreamDiffusion/datasets\"\n",
        "!unzip \"/content/drive/MyDrive/catcher/imageNet_images.zip\" -d \"/content/DreamDiffusion/datasets\"\n",
        "!mv \"/content/drive/MyDrive/catcher/v1-5-pruned.ckpt\" \"/content/DreamDiffusion/pretrains/models\""
      ],
      "metadata": {
        "id": "x8YkO6mWCCNl",
        "collapsed": true
      },
      "execution_count": null,
      "outputs": []
    },
    {
      "cell_type": "code",
      "source": [
        "!mv \"/content/drive/MyDrive/catcher/v1-5-pruned.ckpt\" \"/content/DreamDiffusion/pretrains/models\""
      ],
      "metadata": {
        "id": "II0wv-kNcjw4"
      },
      "execution_count": null,
      "outputs": []
    },
    {
      "cell_type": "code",
      "source": [
        "!pip install -e ./code"
      ],
      "metadata": {
        "id": "YIHrgjByR0jA"
      },
      "execution_count": null,
      "outputs": []
    },
    {
      "cell_type": "code",
      "source": [
        "!mv \"/content/drive/MyDrive/catcher/checkpoint.pth\"  \"/content/DreamDiffusion/pretrains/pretain"
      ],
      "metadata": {
        "id": "w35OqpJBWixs"
      },
      "execution_count": null,
      "outputs": []
    },
    {
      "cell_type": "markdown",
      "source": [],
      "metadata": {
        "id": "IuaYYzZpV5QY"
      }
    },
    {
      "cell_type": "code",
      "source": [
        "!pip install omegaconf\n"
      ],
      "metadata": {
        "id": "br-pF31RXWL2"
      },
      "execution_count": null,
      "outputs": []
    },
    {
      "cell_type": "code",
      "source": [],
      "metadata": {
        "id": "M8QNFHRKXsk1"
      },
      "execution_count": null,
      "outputs": []
    },
    {
      "cell_type": "code",
      "source": [
        "!pip install torch"
      ],
      "metadata": {
        "id": "KdM1Xfe8XRAb"
      },
      "execution_count": null,
      "outputs": []
    },
    {
      "cell_type": "code",
      "source": [
        "!pip install pytorch-lightning"
      ],
      "metadata": {
        "id": "FY7-KJFhaULq"
      },
      "execution_count": null,
      "outputs": []
    },
    {
      "cell_type": "code",
      "source": [
        "!cp /content/DreamDiffusion/pretrains/eeg_pretain/checkpoint.pth /content/DreamDiffusion/pretrains/generation"
      ],
      "metadata": {
        "id": "QZ8OA26I_FGU"
      },
      "execution_count": null,
      "outputs": []
    },
    {
      "cell_type": "code",
      "source": [
        "#!pip install pytorch-lightning==1.6.5"
      ],
      "metadata": {
        "id": "venHS7O8RWHR"
      },
      "execution_count": null,
      "outputs": []
    },
    {
      "cell_type": "code",
      "source": [
        "!pip install lightning"
      ],
      "metadata": {
        "id": "WsAi1X3FSn9J"
      },
      "execution_count": null,
      "outputs": []
    },
    {
      "cell_type": "code",
      "source": [
        "!pip install kornia"
      ],
      "metadata": {
        "id": "CD42Q8eESzxt"
      },
      "execution_count": null,
      "outputs": []
    },
    {
      "cell_type": "code",
      "source": [
        "!cp -r /content/DreamDiffusion/code /content/drive/MyDrive/dcatcher"
      ],
      "metadata": {
        "id": "EeRq45SCpMA2"
      },
      "execution_count": null,
      "outputs": []
    },
    {
      "cell_type": "code",
      "source": [
        "!cp -r  /content/drive/MyDrive/dcatcher/DreamDiffusion /content/DreamDiffusion"
      ],
      "metadata": {
        "id": "mBAWSzgwtcCw"
      },
      "execution_count": null,
      "outputs": []
    },
    {
      "cell_type": "code",
      "source": [
        "\n",
        "!python ./code/gen_eval_eeg.py \\\n",
        "  --model_path ./pretrains/generation/checkpoint.pth \\\n",
        "  --eeg_file ./datasets/eeg_5_95_std.pth \\\n",
        "  --root ../DreamDiffusion/\n",
        "\n"
      ],
      "metadata": {
        "id": "6_7W9VdXdxKW"
      },
      "execution_count": null,
      "outputs": []
    },
    {
      "cell_type": "code",
      "source": [
        "!python3 /content/DreamDiffusion/code/gen_eval_eeg.py --dataset EEG --model_path /content/DreamDiffusion/pretrains/generation/checkpoint.pth"
      ],
      "metadata": {
        "id": "FtPgiP7tDvm5"
      },
      "execution_count": null,
      "outputs": []
    },
    {
      "cell_type": "markdown",
      "source": [],
      "metadata": {
        "id": "0e0b2zHfIIXI"
      }
    }
  ]
}